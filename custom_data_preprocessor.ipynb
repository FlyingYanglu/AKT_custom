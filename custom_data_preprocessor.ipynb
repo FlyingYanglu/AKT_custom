{
 "cells": [
  {
   "cell_type": "code",
   "execution_count": 1,
   "metadata": {},
   "outputs": [],
   "source": [
    "import json\n",
    "import csv"
   ]
  },
  {
   "cell_type": "code",
   "execution_count": 4,
   "metadata": {},
   "outputs": [],
   "source": [
    "with open(\"data/custom_pid/data_list.json\", \"r\") as f:\n",
    "    data_list = json.load(f)\n",
    "    "
   ]
  },
  {
   "cell_type": "code",
   "execution_count": 5,
   "metadata": {},
   "outputs": [
    {
     "name": "stdout",
     "output_type": "stream",
     "text": [
      "Concepts:  20\n",
      "Exercises:  50\n"
     ]
    }
   ],
   "source": [
    "# Initialize data_dict\n",
    "data_dict = {}\n",
    "\n",
    "# Extract and process data\n",
    "for item in data_list:\n",
    "    student_id = item['student_id']\n",
    "    concepts = item['concepts']\n",
    "    exercise_id = item['exercise_id']\n",
    "    response = item['response']\n",
    "    time_elapsed = item['time_elapsed']\n",
    "    \n",
    "    # Initialize student entry if not present\n",
    "    if student_id not in data_dict:\n",
    "        data_dict[student_id] = {'q_data': [], 'a_data': [], 'p_data': [], 'elapsed_time': []}\n",
    "    \n",
    "    # Populate data for each student\n",
    "    for concept, elapsed in zip(concepts, time_elapsed):\n",
    "        data_dict[student_id]['q_data'].append(concept)\n",
    "        data_dict[student_id]['a_data'].append(response)\n",
    "        data_dict[student_id]['p_data'].append(exercise_id)\n",
    "        data_dict[student_id]['elapsed_time'].append(elapsed)\n",
    "\n",
    "# print distinct concepts, exercises\n",
    "concepts = set()\n",
    "exercises = set()\n",
    "for student_id in data_dict:\n",
    "    concepts.update(data_dict[student_id]['q_data'])\n",
    "    exercises.update(data_dict[student_id]['p_data'])\n",
    "\n",
    "print(\"Concepts: \", len(concepts))\n",
    "print(\"Exercises: \", len(exercises))"
   ]
  },
  {
   "cell_type": "code",
   "execution_count": 6,
   "metadata": {},
   "outputs": [],
   "source": [
    "\n",
    "f_out = open('data/custom_pid/custom_pid.csv', 'w')\n",
    "for user_id in data_dict:\n",
    "    q_data = data_dict[user_id]['q_data']\n",
    "    a_data = data_dict[user_id]['a_data']\n",
    "    p_data = data_dict[user_id]['p_data']\n",
    "    elapsed_time = data_dict[user_id]['elapsed_time']\n",
    "\n",
    "    f_out.write(str(user_id)+'\\n')\n",
    "    f_out.write(','.join([str(x) for x in p_data])+'\\n')\n",
    "    f_out.write(','.join([str(x) for x in q_data])+'\\n')\n",
    "    f_out.write(','.join([str(x) for x in a_data])+'\\n')\n",
    "    # f_out.write(','.join([str(x) for x in elapsed_time])+'\\n')\n",
    "\n",
    "\n",
    "f_out.close()"
   ]
  },
  {
   "cell_type": "code",
   "execution_count": 7,
   "metadata": {},
   "outputs": [
    {
     "name": "stdout",
     "output_type": "stream",
     "text": [
      "Train:  1600\n",
      "Valid:  200\n",
      "Test:  200\n"
     ]
    }
   ],
   "source": [
    "# split data_dict into train valid and test, 80-10-10 split by user_id\n",
    "train_dict = {}\n",
    "valid_dict = {}\n",
    "test_dict = {}\n",
    "\n",
    "user_ids = list(data_dict.keys())\n",
    "train_size = int(0.8*len(user_ids))\n",
    "valid_size = int(0.1*len(user_ids))\n",
    "test_size = len(user_ids) - train_size - valid_size\n",
    "\n",
    "train_user_ids = user_ids[:train_size]\n",
    "valid_user_ids = user_ids[train_size:train_size+valid_size]\n",
    "test_user_ids = user_ids[train_size+valid_size:]\n",
    "\n",
    "for user_id in train_user_ids:\n",
    "    train_dict[user_id] = data_dict[user_id]\n",
    "\n",
    "for user_id in valid_user_ids:\n",
    "    valid_dict[user_id] = data_dict[user_id]\n",
    "\n",
    "for user_id in test_user_ids:\n",
    "    test_dict[user_id] = data_dict[user_id]\n",
    "\n",
    "print(\"Train: \", len(train_dict))\n",
    "print(\"Valid: \", len(valid_dict))\n",
    "print(\"Test: \", len(test_dict))\n",
    "\n",
    "# write train valid and test data to csv\n",
    "f_train = open('data/custom_pid/custom_pid_train1.csv', 'w')\n",
    "f_valid = open('data/custom_pid/custom_pid_valid1.csv', 'w')\n",
    "f_test = open('data/custom_pid/custom_pid_test1.csv', 'w')\n",
    "\n",
    "for user_id in train_dict:\n",
    "    q_data = train_dict[user_id]['q_data']\n",
    "    a_data = train_dict[user_id]['a_data']\n",
    "    p_data = train_dict[user_id]['p_data']\n",
    "    elapsed_time = train_dict[user_id]['elapsed_time']\n",
    "\n",
    "    f_train.write(str(user_id)+'\\n')\n",
    "    f_train.write(','.join([str(x) for x in p_data])+'\\n')\n",
    "    f_train.write(','.join([str(x) for x in q_data])+'\\n')\n",
    "    f_train.write(','.join([str(x) for x in a_data])+'\\n')\n",
    "    # f_train.write(','.join([str(x) for x in elapsed_time])+'\\n')\n",
    "\n",
    "for user_id in valid_dict:\n",
    "    q_data = valid_dict[user_id]['q_data']\n",
    "    a_data = valid_dict[user_id]['a_data']\n",
    "    p_data = valid_dict[user_id]['p_data']\n",
    "    elapsed_time = valid_dict[user_id]['elapsed_time']\n",
    "\n",
    "    f_valid.write(str(user_id)+'\\n')\n",
    "    f_valid.write(','.join([str(x) for x in p_data])+'\\n')\n",
    "    f_valid.write(','.join([str(x) for x in q_data])+'\\n')\n",
    "    f_valid.write(','.join([str(x) for x in a_data])+'\\n')\n",
    "    # f_valid.write(','.join([str(x) for x in elapsed_time])+'\\n')\n",
    "\n",
    "for user_id in test_dict:\n",
    "    q_data = test_dict[user_id]['q_data']\n",
    "    a_data = test_dict[user_id]['a_data']\n",
    "    p_data = test_dict[user_id]['p_data']\n",
    "    elapsed_time = test_dict[user_id]['elapsed_time']\n",
    "\n",
    "    f_test.write(str(user_id)+'\\n')\n",
    "    f_test.write(','.join([str(x) for x in p_data])+'\\n')\n",
    "    f_test.write(','.join([str(x) for x in q_data])+'\\n')\n",
    "    f_test.write(','.join([str(x) for x in a_data])+'\\n')\n",
    "    # f_test.write(','.join([str(x) for x in elapsed_time])+'\\n')\n",
    "\n",
    "f_train.close()\n",
    "f_valid.close()\n",
    "f_test.close()"
   ]
  },
  {
   "cell_type": "code",
   "execution_count": null,
   "metadata": {},
   "outputs": [],
   "source": []
  }
 ],
 "metadata": {
  "kernelspec": {
   "display_name": "pikrex",
   "language": "python",
   "name": "python3"
  },
  "language_info": {
   "codemirror_mode": {
    "name": "ipython",
    "version": 3
   },
   "file_extension": ".py",
   "mimetype": "text/x-python",
   "name": "python",
   "nbconvert_exporter": "python",
   "pygments_lexer": "ipython3",
   "version": "3.8.16"
  }
 },
 "nbformat": 4,
 "nbformat_minor": 2
}
